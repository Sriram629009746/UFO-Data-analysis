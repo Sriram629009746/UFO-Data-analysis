{
  "nbformat": 4,
  "nbformat_minor": 0,
  "metadata": {
    "colab": {
      "name": "UFO_Data_Cleaning&Analysis.ipynb",
      "provenance": []
    },
    "kernelspec": {
      "name": "python3",
      "display_name": "Python 3"
    },
    "language_info": {
      "name": "python"
    }
  },
  "cells": [
    {
      "cell_type": "code",
      "execution_count": 1,
      "metadata": {
        "id": "fw-5PzdE4KdY"
      },
      "outputs": [],
      "source": [
        "import requests\n",
        "import csv\n",
        "from bs4 import BeautifulSoup\n",
        "import pandas as pd"
      ]
    },
    {
      "cell_type": "code",
      "source": [
        "html_text = requests.get('http://www.nuforc.org/webreports/ndxlTX.html').text\n",
        "soup = BeautifulSoup(html_text, 'html5lib')\n",
        "headers = soup.find('tr')\n",
        "col_names = []\n",
        "for hdr in headers.find_all('th'):\n",
        "  col_names.append(hdr.text)\n",
        "\n",
        "csv_file = open('ufos_in_texas.csv','w')\n",
        "\n",
        "csv_writer = csv.writer(csv_file)\n",
        "csv_writer.writerow(col_names)\n",
        "\n",
        "for row_item in soup.find('tbody').find_all('tr'):\n",
        "  row_values = []\n",
        "  for row in row_item.find_all('td'):\n",
        "    row_values.append(row.text)\n",
        "  csv_writer.writerow(row_values)\n",
        "\n",
        "csv_file.close()"
      ],
      "metadata": {
        "id": "-tv2yYj04Rdv"
      },
      "execution_count": 2,
      "outputs": []
    },
    {
      "cell_type": "code",
      "source": [
        "df = pd.read_csv('ufos_in_texas.csv')\n",
        "test = df.head()\n",
        "num_rows_original = df.shape[0]\n",
        "df.head()"
      ],
      "metadata": {
        "colab": {
          "base_uri": "https://localhost:8080/",
          "height": 206
        },
        "id": "wko4LSQg4Uf1",
        "outputId": "50815dfc-e61d-4504-a3eb-15c0ccc775c4"
      },
      "execution_count": 3,
      "outputs": [
        {
          "output_type": "execute_result",
          "data": {
            "text/plain": [
              "     Date / Time         City State Country    Shape            Duration  \\\n",
              "0  2/27/22 17:15  San Antonio    TX     USA  Diamond  less than a minute   \n",
              "1  2/24/22 19:31        Hondo    TX     USA    Other           4 minutes   \n",
              "2  2/23/22 21:00      El Paso    TX     USA    Light                  30   \n",
              "3  2/21/22 23:39    Harlingen    TX     USA    Light      short 1 second   \n",
              "4  2/18/22 06:45      Silsbee    TX     USA     Disk       20-30 minutes   \n",
              "\n",
              "                                             Summary  Posted  \n",
              "0  Trapezoid/Diamond/Kite shaped mirrored object ...  3/4/22  \n",
              "1  Objects in the sky with multiple activity goin...  3/4/22  \n",
              "2  A bright white light that streaked across the ...  3/4/22  \n",
              "3             Short burst of green and blueish light  3/4/22  \n",
              "4  It was so bright. It was daylight but it was l...  3/4/22  "
            ],
            "text/html": [
              "\n",
              "  <div id=\"df-9934019b-ea04-44dd-bacf-01ea276f3345\">\n",
              "    <div class=\"colab-df-container\">\n",
              "      <div>\n",
              "<style scoped>\n",
              "    .dataframe tbody tr th:only-of-type {\n",
              "        vertical-align: middle;\n",
              "    }\n",
              "\n",
              "    .dataframe tbody tr th {\n",
              "        vertical-align: top;\n",
              "    }\n",
              "\n",
              "    .dataframe thead th {\n",
              "        text-align: right;\n",
              "    }\n",
              "</style>\n",
              "<table border=\"1\" class=\"dataframe\">\n",
              "  <thead>\n",
              "    <tr style=\"text-align: right;\">\n",
              "      <th></th>\n",
              "      <th>Date / Time</th>\n",
              "      <th>City</th>\n",
              "      <th>State</th>\n",
              "      <th>Country</th>\n",
              "      <th>Shape</th>\n",
              "      <th>Duration</th>\n",
              "      <th>Summary</th>\n",
              "      <th>Posted</th>\n",
              "    </tr>\n",
              "  </thead>\n",
              "  <tbody>\n",
              "    <tr>\n",
              "      <th>0</th>\n",
              "      <td>2/27/22 17:15</td>\n",
              "      <td>San Antonio</td>\n",
              "      <td>TX</td>\n",
              "      <td>USA</td>\n",
              "      <td>Diamond</td>\n",
              "      <td>less than a minute</td>\n",
              "      <td>Trapezoid/Diamond/Kite shaped mirrored object ...</td>\n",
              "      <td>3/4/22</td>\n",
              "    </tr>\n",
              "    <tr>\n",
              "      <th>1</th>\n",
              "      <td>2/24/22 19:31</td>\n",
              "      <td>Hondo</td>\n",
              "      <td>TX</td>\n",
              "      <td>USA</td>\n",
              "      <td>Other</td>\n",
              "      <td>4 minutes</td>\n",
              "      <td>Objects in the sky with multiple activity goin...</td>\n",
              "      <td>3/4/22</td>\n",
              "    </tr>\n",
              "    <tr>\n",
              "      <th>2</th>\n",
              "      <td>2/23/22 21:00</td>\n",
              "      <td>El Paso</td>\n",
              "      <td>TX</td>\n",
              "      <td>USA</td>\n",
              "      <td>Light</td>\n",
              "      <td>30</td>\n",
              "      <td>A bright white light that streaked across the ...</td>\n",
              "      <td>3/4/22</td>\n",
              "    </tr>\n",
              "    <tr>\n",
              "      <th>3</th>\n",
              "      <td>2/21/22 23:39</td>\n",
              "      <td>Harlingen</td>\n",
              "      <td>TX</td>\n",
              "      <td>USA</td>\n",
              "      <td>Light</td>\n",
              "      <td>short 1 second</td>\n",
              "      <td>Short burst of green and blueish light</td>\n",
              "      <td>3/4/22</td>\n",
              "    </tr>\n",
              "    <tr>\n",
              "      <th>4</th>\n",
              "      <td>2/18/22 06:45</td>\n",
              "      <td>Silsbee</td>\n",
              "      <td>TX</td>\n",
              "      <td>USA</td>\n",
              "      <td>Disk</td>\n",
              "      <td>20-30 minutes</td>\n",
              "      <td>It was so bright. It was daylight but it was l...</td>\n",
              "      <td>3/4/22</td>\n",
              "    </tr>\n",
              "  </tbody>\n",
              "</table>\n",
              "</div>\n",
              "      <button class=\"colab-df-convert\" onclick=\"convertToInteractive('df-9934019b-ea04-44dd-bacf-01ea276f3345')\"\n",
              "              title=\"Convert this dataframe to an interactive table.\"\n",
              "              style=\"display:none;\">\n",
              "        \n",
              "  <svg xmlns=\"http://www.w3.org/2000/svg\" height=\"24px\"viewBox=\"0 0 24 24\"\n",
              "       width=\"24px\">\n",
              "    <path d=\"M0 0h24v24H0V0z\" fill=\"none\"/>\n",
              "    <path d=\"M18.56 5.44l.94 2.06.94-2.06 2.06-.94-2.06-.94-.94-2.06-.94 2.06-2.06.94zm-11 1L8.5 8.5l.94-2.06 2.06-.94-2.06-.94L8.5 2.5l-.94 2.06-2.06.94zm10 10l.94 2.06.94-2.06 2.06-.94-2.06-.94-.94-2.06-.94 2.06-2.06.94z\"/><path d=\"M17.41 7.96l-1.37-1.37c-.4-.4-.92-.59-1.43-.59-.52 0-1.04.2-1.43.59L10.3 9.45l-7.72 7.72c-.78.78-.78 2.05 0 2.83L4 21.41c.39.39.9.59 1.41.59.51 0 1.02-.2 1.41-.59l7.78-7.78 2.81-2.81c.8-.78.8-2.07 0-2.86zM5.41 20L4 18.59l7.72-7.72 1.47 1.35L5.41 20z\"/>\n",
              "  </svg>\n",
              "      </button>\n",
              "      \n",
              "  <style>\n",
              "    .colab-df-container {\n",
              "      display:flex;\n",
              "      flex-wrap:wrap;\n",
              "      gap: 12px;\n",
              "    }\n",
              "\n",
              "    .colab-df-convert {\n",
              "      background-color: #E8F0FE;\n",
              "      border: none;\n",
              "      border-radius: 50%;\n",
              "      cursor: pointer;\n",
              "      display: none;\n",
              "      fill: #1967D2;\n",
              "      height: 32px;\n",
              "      padding: 0 0 0 0;\n",
              "      width: 32px;\n",
              "    }\n",
              "\n",
              "    .colab-df-convert:hover {\n",
              "      background-color: #E2EBFA;\n",
              "      box-shadow: 0px 1px 2px rgba(60, 64, 67, 0.3), 0px 1px 3px 1px rgba(60, 64, 67, 0.15);\n",
              "      fill: #174EA6;\n",
              "    }\n",
              "\n",
              "    [theme=dark] .colab-df-convert {\n",
              "      background-color: #3B4455;\n",
              "      fill: #D2E3FC;\n",
              "    }\n",
              "\n",
              "    [theme=dark] .colab-df-convert:hover {\n",
              "      background-color: #434B5C;\n",
              "      box-shadow: 0px 1px 3px 1px rgba(0, 0, 0, 0.15);\n",
              "      filter: drop-shadow(0px 1px 2px rgba(0, 0, 0, 0.3));\n",
              "      fill: #FFFFFF;\n",
              "    }\n",
              "  </style>\n",
              "\n",
              "      <script>\n",
              "        const buttonEl =\n",
              "          document.querySelector('#df-9934019b-ea04-44dd-bacf-01ea276f3345 button.colab-df-convert');\n",
              "        buttonEl.style.display =\n",
              "          google.colab.kernel.accessAllowed ? 'block' : 'none';\n",
              "\n",
              "        async function convertToInteractive(key) {\n",
              "          const element = document.querySelector('#df-9934019b-ea04-44dd-bacf-01ea276f3345');\n",
              "          const dataTable =\n",
              "            await google.colab.kernel.invokeFunction('convertToInteractive',\n",
              "                                                     [key], {});\n",
              "          if (!dataTable) return;\n",
              "\n",
              "          const docLinkHtml = 'Like what you see? Visit the ' +\n",
              "            '<a target=\"_blank\" href=https://colab.research.google.com/notebooks/data_table.ipynb>data table notebook</a>'\n",
              "            + ' to learn more about interactive tables.';\n",
              "          element.innerHTML = '';\n",
              "          dataTable['output_type'] = 'display_data';\n",
              "          await google.colab.output.renderOutput(dataTable, element);\n",
              "          const docLink = document.createElement('div');\n",
              "          docLink.innerHTML = docLinkHtml;\n",
              "          element.appendChild(docLink);\n",
              "        }\n",
              "      </script>\n",
              "    </div>\n",
              "  </div>\n",
              "  "
            ]
          },
          "metadata": {},
          "execution_count": 3
        }
      ]
    },
    {
      "cell_type": "code",
      "source": [
        "df = df[df['Duration'].str.fullmatch('\\d+\\s(second|minute|hour|day)s?') == True]\n",
        "#df.to_csv('filtered_df.csv', index=False)\n",
        "df.head()"
      ],
      "metadata": {
        "colab": {
          "base_uri": "https://localhost:8080/",
          "height": 206
        },
        "id": "Gly1zBpX4XHl",
        "outputId": "889cabcc-0038-4a45-abe3-fa8b4d967d3f"
      },
      "execution_count": 4,
      "outputs": [
        {
          "output_type": "execute_result",
          "data": {
            "text/plain": [
              "      Date / Time            City State Country     Shape    Duration  \\\n",
              "1   2/24/22 19:31           Hondo    TX     USA     Other   4 minutes   \n",
              "5   2/14/22 02:13       Arlington    TX     USA     Light  10 seconds   \n",
              "11   2/1/22 19:00  Mount Pleasant    TX     USA    Sphere   3 minutes   \n",
              "12  1/29/22 00:06     San Antonio    TX     USA      Star   7 seconds   \n",
              "17   1/2/22 06:43    Lake Jackson    TX     USA  Fireball   5 seconds   \n",
              "\n",
              "                                              Summary  Posted  \n",
              "1   Objects in the sky with multiple activity goin...  3/4/22  \n",
              "5   Bright light(bright like the North Star) Dropp...  3/4/22  \n",
              "11  We step outside and looked up. It was like a s...  3/4/22  \n",
              "12         Beautiful LARGE white-tailed shooting star  3/4/22  \n",
              "17   It’s filed on iPhone off flat screen over Tetons  3/4/22  "
            ],
            "text/html": [
              "\n",
              "  <div id=\"df-386c312a-7496-4b4c-b98a-2e4367b94d50\">\n",
              "    <div class=\"colab-df-container\">\n",
              "      <div>\n",
              "<style scoped>\n",
              "    .dataframe tbody tr th:only-of-type {\n",
              "        vertical-align: middle;\n",
              "    }\n",
              "\n",
              "    .dataframe tbody tr th {\n",
              "        vertical-align: top;\n",
              "    }\n",
              "\n",
              "    .dataframe thead th {\n",
              "        text-align: right;\n",
              "    }\n",
              "</style>\n",
              "<table border=\"1\" class=\"dataframe\">\n",
              "  <thead>\n",
              "    <tr style=\"text-align: right;\">\n",
              "      <th></th>\n",
              "      <th>Date / Time</th>\n",
              "      <th>City</th>\n",
              "      <th>State</th>\n",
              "      <th>Country</th>\n",
              "      <th>Shape</th>\n",
              "      <th>Duration</th>\n",
              "      <th>Summary</th>\n",
              "      <th>Posted</th>\n",
              "    </tr>\n",
              "  </thead>\n",
              "  <tbody>\n",
              "    <tr>\n",
              "      <th>1</th>\n",
              "      <td>2/24/22 19:31</td>\n",
              "      <td>Hondo</td>\n",
              "      <td>TX</td>\n",
              "      <td>USA</td>\n",
              "      <td>Other</td>\n",
              "      <td>4 minutes</td>\n",
              "      <td>Objects in the sky with multiple activity goin...</td>\n",
              "      <td>3/4/22</td>\n",
              "    </tr>\n",
              "    <tr>\n",
              "      <th>5</th>\n",
              "      <td>2/14/22 02:13</td>\n",
              "      <td>Arlington</td>\n",
              "      <td>TX</td>\n",
              "      <td>USA</td>\n",
              "      <td>Light</td>\n",
              "      <td>10 seconds</td>\n",
              "      <td>Bright light(bright like the North Star) Dropp...</td>\n",
              "      <td>3/4/22</td>\n",
              "    </tr>\n",
              "    <tr>\n",
              "      <th>11</th>\n",
              "      <td>2/1/22 19:00</td>\n",
              "      <td>Mount Pleasant</td>\n",
              "      <td>TX</td>\n",
              "      <td>USA</td>\n",
              "      <td>Sphere</td>\n",
              "      <td>3 minutes</td>\n",
              "      <td>We step outside and looked up. It was like a s...</td>\n",
              "      <td>3/4/22</td>\n",
              "    </tr>\n",
              "    <tr>\n",
              "      <th>12</th>\n",
              "      <td>1/29/22 00:06</td>\n",
              "      <td>San Antonio</td>\n",
              "      <td>TX</td>\n",
              "      <td>USA</td>\n",
              "      <td>Star</td>\n",
              "      <td>7 seconds</td>\n",
              "      <td>Beautiful LARGE white-tailed shooting star</td>\n",
              "      <td>3/4/22</td>\n",
              "    </tr>\n",
              "    <tr>\n",
              "      <th>17</th>\n",
              "      <td>1/2/22 06:43</td>\n",
              "      <td>Lake Jackson</td>\n",
              "      <td>TX</td>\n",
              "      <td>USA</td>\n",
              "      <td>Fireball</td>\n",
              "      <td>5 seconds</td>\n",
              "      <td>It’s filed on iPhone off flat screen over Tetons</td>\n",
              "      <td>3/4/22</td>\n",
              "    </tr>\n",
              "  </tbody>\n",
              "</table>\n",
              "</div>\n",
              "      <button class=\"colab-df-convert\" onclick=\"convertToInteractive('df-386c312a-7496-4b4c-b98a-2e4367b94d50')\"\n",
              "              title=\"Convert this dataframe to an interactive table.\"\n",
              "              style=\"display:none;\">\n",
              "        \n",
              "  <svg xmlns=\"http://www.w3.org/2000/svg\" height=\"24px\"viewBox=\"0 0 24 24\"\n",
              "       width=\"24px\">\n",
              "    <path d=\"M0 0h24v24H0V0z\" fill=\"none\"/>\n",
              "    <path d=\"M18.56 5.44l.94 2.06.94-2.06 2.06-.94-2.06-.94-.94-2.06-.94 2.06-2.06.94zm-11 1L8.5 8.5l.94-2.06 2.06-.94-2.06-.94L8.5 2.5l-.94 2.06-2.06.94zm10 10l.94 2.06.94-2.06 2.06-.94-2.06-.94-.94-2.06-.94 2.06-2.06.94z\"/><path d=\"M17.41 7.96l-1.37-1.37c-.4-.4-.92-.59-1.43-.59-.52 0-1.04.2-1.43.59L10.3 9.45l-7.72 7.72c-.78.78-.78 2.05 0 2.83L4 21.41c.39.39.9.59 1.41.59.51 0 1.02-.2 1.41-.59l7.78-7.78 2.81-2.81c.8-.78.8-2.07 0-2.86zM5.41 20L4 18.59l7.72-7.72 1.47 1.35L5.41 20z\"/>\n",
              "  </svg>\n",
              "      </button>\n",
              "      \n",
              "  <style>\n",
              "    .colab-df-container {\n",
              "      display:flex;\n",
              "      flex-wrap:wrap;\n",
              "      gap: 12px;\n",
              "    }\n",
              "\n",
              "    .colab-df-convert {\n",
              "      background-color: #E8F0FE;\n",
              "      border: none;\n",
              "      border-radius: 50%;\n",
              "      cursor: pointer;\n",
              "      display: none;\n",
              "      fill: #1967D2;\n",
              "      height: 32px;\n",
              "      padding: 0 0 0 0;\n",
              "      width: 32px;\n",
              "    }\n",
              "\n",
              "    .colab-df-convert:hover {\n",
              "      background-color: #E2EBFA;\n",
              "      box-shadow: 0px 1px 2px rgba(60, 64, 67, 0.3), 0px 1px 3px 1px rgba(60, 64, 67, 0.15);\n",
              "      fill: #174EA6;\n",
              "    }\n",
              "\n",
              "    [theme=dark] .colab-df-convert {\n",
              "      background-color: #3B4455;\n",
              "      fill: #D2E3FC;\n",
              "    }\n",
              "\n",
              "    [theme=dark] .colab-df-convert:hover {\n",
              "      background-color: #434B5C;\n",
              "      box-shadow: 0px 1px 3px 1px rgba(0, 0, 0, 0.15);\n",
              "      filter: drop-shadow(0px 1px 2px rgba(0, 0, 0, 0.3));\n",
              "      fill: #FFFFFF;\n",
              "    }\n",
              "  </style>\n",
              "\n",
              "      <script>\n",
              "        const buttonEl =\n",
              "          document.querySelector('#df-386c312a-7496-4b4c-b98a-2e4367b94d50 button.colab-df-convert');\n",
              "        buttonEl.style.display =\n",
              "          google.colab.kernel.accessAllowed ? 'block' : 'none';\n",
              "\n",
              "        async function convertToInteractive(key) {\n",
              "          const element = document.querySelector('#df-386c312a-7496-4b4c-b98a-2e4367b94d50');\n",
              "          const dataTable =\n",
              "            await google.colab.kernel.invokeFunction('convertToInteractive',\n",
              "                                                     [key], {});\n",
              "          if (!dataTable) return;\n",
              "\n",
              "          const docLinkHtml = 'Like what you see? Visit the ' +\n",
              "            '<a target=\"_blank\" href=https://colab.research.google.com/notebooks/data_table.ipynb>data table notebook</a>'\n",
              "            + ' to learn more about interactive tables.';\n",
              "          element.innerHTML = '';\n",
              "          dataTable['output_type'] = 'display_data';\n",
              "          await google.colab.output.renderOutput(dataTable, element);\n",
              "          const docLink = document.createElement('div');\n",
              "          docLink.innerHTML = docLinkHtml;\n",
              "          element.appendChild(docLink);\n",
              "        }\n",
              "      </script>\n",
              "    </div>\n",
              "  </div>\n",
              "  "
            ]
          },
          "metadata": {},
          "execution_count": 4
        }
      ]
    },
    {
      "cell_type": "code",
      "source": [
        "# filter out invalid durations\n",
        "# convert all valid durations to seconds\n",
        "\n",
        "df['Duration'].replace('( minute)s?', '*60 seconds', regex=True, inplace=True)\n",
        "df['Duration'].replace('( hour)s?', '*3600 seconds', regex=True, inplace=True)\n",
        "df['Duration'].replace('( day)s?', '*86400 seconds', regex=True, inplace=True)\n",
        "df['Duration'].replace('( second)s?', '*1', regex=True, inplace=True)\n",
        "\n",
        "\n",
        "inter_m=df['Duration'].str.split(\"*\",expand=True)\n",
        "inter_m[0] = pd.to_numeric(inter_m[0], errors='coerce')\n",
        "inter_m[1] = pd.to_numeric(inter_m[1], errors='coerce')\n",
        "\n",
        "df['Duration']=inter_m[0] * inter_m[1]\n",
        "\n",
        "df.to_csv('final.csv', index=False)\n",
        "num_rows_filtered = df.shape[0]\n",
        "df.head()\n"
      ],
      "metadata": {
        "colab": {
          "base_uri": "https://localhost:8080/",
          "height": 206
        },
        "id": "JozE7AY94evG",
        "outputId": "cbc1572c-f996-4553-fac7-3922f9294f18"
      },
      "execution_count": 5,
      "outputs": [
        {
          "output_type": "execute_result",
          "data": {
            "text/plain": [
              "      Date / Time            City State Country     Shape  Duration  \\\n",
              "1   2/24/22 19:31           Hondo    TX     USA     Other       240   \n",
              "5   2/14/22 02:13       Arlington    TX     USA     Light        10   \n",
              "11   2/1/22 19:00  Mount Pleasant    TX     USA    Sphere       180   \n",
              "12  1/29/22 00:06     San Antonio    TX     USA      Star         7   \n",
              "17   1/2/22 06:43    Lake Jackson    TX     USA  Fireball         5   \n",
              "\n",
              "                                              Summary  Posted  \n",
              "1   Objects in the sky with multiple activity goin...  3/4/22  \n",
              "5   Bright light(bright like the North Star) Dropp...  3/4/22  \n",
              "11  We step outside and looked up. It was like a s...  3/4/22  \n",
              "12         Beautiful LARGE white-tailed shooting star  3/4/22  \n",
              "17   It’s filed on iPhone off flat screen over Tetons  3/4/22  "
            ],
            "text/html": [
              "\n",
              "  <div id=\"df-8f632805-f3f8-4087-ba13-1d6b11ea45ae\">\n",
              "    <div class=\"colab-df-container\">\n",
              "      <div>\n",
              "<style scoped>\n",
              "    .dataframe tbody tr th:only-of-type {\n",
              "        vertical-align: middle;\n",
              "    }\n",
              "\n",
              "    .dataframe tbody tr th {\n",
              "        vertical-align: top;\n",
              "    }\n",
              "\n",
              "    .dataframe thead th {\n",
              "        text-align: right;\n",
              "    }\n",
              "</style>\n",
              "<table border=\"1\" class=\"dataframe\">\n",
              "  <thead>\n",
              "    <tr style=\"text-align: right;\">\n",
              "      <th></th>\n",
              "      <th>Date / Time</th>\n",
              "      <th>City</th>\n",
              "      <th>State</th>\n",
              "      <th>Country</th>\n",
              "      <th>Shape</th>\n",
              "      <th>Duration</th>\n",
              "      <th>Summary</th>\n",
              "      <th>Posted</th>\n",
              "    </tr>\n",
              "  </thead>\n",
              "  <tbody>\n",
              "    <tr>\n",
              "      <th>1</th>\n",
              "      <td>2/24/22 19:31</td>\n",
              "      <td>Hondo</td>\n",
              "      <td>TX</td>\n",
              "      <td>USA</td>\n",
              "      <td>Other</td>\n",
              "      <td>240</td>\n",
              "      <td>Objects in the sky with multiple activity goin...</td>\n",
              "      <td>3/4/22</td>\n",
              "    </tr>\n",
              "    <tr>\n",
              "      <th>5</th>\n",
              "      <td>2/14/22 02:13</td>\n",
              "      <td>Arlington</td>\n",
              "      <td>TX</td>\n",
              "      <td>USA</td>\n",
              "      <td>Light</td>\n",
              "      <td>10</td>\n",
              "      <td>Bright light(bright like the North Star) Dropp...</td>\n",
              "      <td>3/4/22</td>\n",
              "    </tr>\n",
              "    <tr>\n",
              "      <th>11</th>\n",
              "      <td>2/1/22 19:00</td>\n",
              "      <td>Mount Pleasant</td>\n",
              "      <td>TX</td>\n",
              "      <td>USA</td>\n",
              "      <td>Sphere</td>\n",
              "      <td>180</td>\n",
              "      <td>We step outside and looked up. It was like a s...</td>\n",
              "      <td>3/4/22</td>\n",
              "    </tr>\n",
              "    <tr>\n",
              "      <th>12</th>\n",
              "      <td>1/29/22 00:06</td>\n",
              "      <td>San Antonio</td>\n",
              "      <td>TX</td>\n",
              "      <td>USA</td>\n",
              "      <td>Star</td>\n",
              "      <td>7</td>\n",
              "      <td>Beautiful LARGE white-tailed shooting star</td>\n",
              "      <td>3/4/22</td>\n",
              "    </tr>\n",
              "    <tr>\n",
              "      <th>17</th>\n",
              "      <td>1/2/22 06:43</td>\n",
              "      <td>Lake Jackson</td>\n",
              "      <td>TX</td>\n",
              "      <td>USA</td>\n",
              "      <td>Fireball</td>\n",
              "      <td>5</td>\n",
              "      <td>It’s filed on iPhone off flat screen over Tetons</td>\n",
              "      <td>3/4/22</td>\n",
              "    </tr>\n",
              "  </tbody>\n",
              "</table>\n",
              "</div>\n",
              "      <button class=\"colab-df-convert\" onclick=\"convertToInteractive('df-8f632805-f3f8-4087-ba13-1d6b11ea45ae')\"\n",
              "              title=\"Convert this dataframe to an interactive table.\"\n",
              "              style=\"display:none;\">\n",
              "        \n",
              "  <svg xmlns=\"http://www.w3.org/2000/svg\" height=\"24px\"viewBox=\"0 0 24 24\"\n",
              "       width=\"24px\">\n",
              "    <path d=\"M0 0h24v24H0V0z\" fill=\"none\"/>\n",
              "    <path d=\"M18.56 5.44l.94 2.06.94-2.06 2.06-.94-2.06-.94-.94-2.06-.94 2.06-2.06.94zm-11 1L8.5 8.5l.94-2.06 2.06-.94-2.06-.94L8.5 2.5l-.94 2.06-2.06.94zm10 10l.94 2.06.94-2.06 2.06-.94-2.06-.94-.94-2.06-.94 2.06-2.06.94z\"/><path d=\"M17.41 7.96l-1.37-1.37c-.4-.4-.92-.59-1.43-.59-.52 0-1.04.2-1.43.59L10.3 9.45l-7.72 7.72c-.78.78-.78 2.05 0 2.83L4 21.41c.39.39.9.59 1.41.59.51 0 1.02-.2 1.41-.59l7.78-7.78 2.81-2.81c.8-.78.8-2.07 0-2.86zM5.41 20L4 18.59l7.72-7.72 1.47 1.35L5.41 20z\"/>\n",
              "  </svg>\n",
              "      </button>\n",
              "      \n",
              "  <style>\n",
              "    .colab-df-container {\n",
              "      display:flex;\n",
              "      flex-wrap:wrap;\n",
              "      gap: 12px;\n",
              "    }\n",
              "\n",
              "    .colab-df-convert {\n",
              "      background-color: #E8F0FE;\n",
              "      border: none;\n",
              "      border-radius: 50%;\n",
              "      cursor: pointer;\n",
              "      display: none;\n",
              "      fill: #1967D2;\n",
              "      height: 32px;\n",
              "      padding: 0 0 0 0;\n",
              "      width: 32px;\n",
              "    }\n",
              "\n",
              "    .colab-df-convert:hover {\n",
              "      background-color: #E2EBFA;\n",
              "      box-shadow: 0px 1px 2px rgba(60, 64, 67, 0.3), 0px 1px 3px 1px rgba(60, 64, 67, 0.15);\n",
              "      fill: #174EA6;\n",
              "    }\n",
              "\n",
              "    [theme=dark] .colab-df-convert {\n",
              "      background-color: #3B4455;\n",
              "      fill: #D2E3FC;\n",
              "    }\n",
              "\n",
              "    [theme=dark] .colab-df-convert:hover {\n",
              "      background-color: #434B5C;\n",
              "      box-shadow: 0px 1px 3px 1px rgba(0, 0, 0, 0.15);\n",
              "      filter: drop-shadow(0px 1px 2px rgba(0, 0, 0, 0.3));\n",
              "      fill: #FFFFFF;\n",
              "    }\n",
              "  </style>\n",
              "\n",
              "      <script>\n",
              "        const buttonEl =\n",
              "          document.querySelector('#df-8f632805-f3f8-4087-ba13-1d6b11ea45ae button.colab-df-convert');\n",
              "        buttonEl.style.display =\n",
              "          google.colab.kernel.accessAllowed ? 'block' : 'none';\n",
              "\n",
              "        async function convertToInteractive(key) {\n",
              "          const element = document.querySelector('#df-8f632805-f3f8-4087-ba13-1d6b11ea45ae');\n",
              "          const dataTable =\n",
              "            await google.colab.kernel.invokeFunction('convertToInteractive',\n",
              "                                                     [key], {});\n",
              "          if (!dataTable) return;\n",
              "\n",
              "          const docLinkHtml = 'Like what you see? Visit the ' +\n",
              "            '<a target=\"_blank\" href=https://colab.research.google.com/notebooks/data_table.ipynb>data table notebook</a>'\n",
              "            + ' to learn more about interactive tables.';\n",
              "          element.innerHTML = '';\n",
              "          dataTable['output_type'] = 'display_data';\n",
              "          await google.colab.output.renderOutput(dataTable, element);\n",
              "          const docLink = document.createElement('div');\n",
              "          docLink.innerHTML = docLinkHtml;\n",
              "          element.appendChild(docLink);\n",
              "        }\n",
              "      </script>\n",
              "    </div>\n",
              "  </div>\n",
              "  "
            ]
          },
          "metadata": {},
          "execution_count": 5
        }
      ]
    },
    {
      "cell_type": "code",
      "source": [
        "print(\"Total #rows in original dataset : {}\".format(num_rows_original))\n",
        "print(\"Total #rows in new 'validated' dataset : {}\".format(num_rows_filtered))"
      ],
      "metadata": {
        "colab": {
          "base_uri": "https://localhost:8080/"
        },
        "id": "LHuPibCT4ks2",
        "outputId": "3260c20b-9821-4e1a-cf21-cb2c726c532c"
      },
      "execution_count": 6,
      "outputs": [
        {
          "output_type": "stream",
          "name": "stdout",
          "text": [
            "Total #rows in original dataset : 5667\n",
            "Total #rows in new 'validated' dataset : 2828\n"
          ]
        }
      ]
    },
    {
      "cell_type": "code",
      "source": [
        "# basic statistics of duration in 'validated' dataset\n",
        "print(\"Max duration in the validated dataset : {}\".format(df['Duration'].max()))\n",
        "print(\"Min duration in the validated dataset : {}\".format(df['Duration'].min()))\n",
        "print(\"Mean duration in the validated dataset : {}\".format(df['Duration'].mean()))\n",
        "print(\"Std Deviation of  duration in the validated dataset : {}\".format(df['Duration'].std()))\n",
        "\n",
        "# boxplot\n",
        "df['Duration'].plot(kind='box',showfliers=True) #with outliers "
      ],
      "metadata": {
        "colab": {
          "base_uri": "https://localhost:8080/",
          "height": 352
        },
        "id": "NuDb4Jj94ozN",
        "outputId": "53346958-a6c4-45eb-d88a-fde917a1bbaa"
      },
      "execution_count": 7,
      "outputs": [
        {
          "output_type": "stream",
          "name": "stdout",
          "text": [
            "Max duration in the validated dataset : 345600\n",
            "Min duration in the validated dataset : 1\n",
            "Mean duration in the validated dataset : 1288.9285714285713\n",
            "Std Deviation of  duration in the validated dataset : 10830.138895073518\n"
          ]
        },
        {
          "output_type": "execute_result",
          "data": {
            "text/plain": [
              "<matplotlib.axes._subplots.AxesSubplot at 0x7f90c6348210>"
            ]
          },
          "metadata": {},
          "execution_count": 7
        },
        {
          "output_type": "display_data",
          "data": {
            "text/plain": [
              "<Figure size 432x288 with 1 Axes>"
            ],
            "image/png": "[encoded data removed]"
          },
          "metadata": {
            "needs_background": "light"
          }
        }
      ]
    },
    {
      "cell_type": "code",
      "source": [
        "df['Duration'].plot(kind='box',showfliers=False) #with outliers"
      ],
      "metadata": {
        "colab": {
          "base_uri": "https://localhost:8080/",
          "height": 282
        },
        "id": "-XEQeG9z4vhd",
        "outputId": "5bcc8512-e014-4a6d-ef1b-45466a80f385"
      },
      "execution_count": 8,
      "outputs": [
        {
          "output_type": "execute_result",
          "data": {
            "text/plain": [
              "<matplotlib.axes._subplots.AxesSubplot at 0x7f90c6225950>"
            ]
          },
          "metadata": {},
          "execution_count": 8
        },
        {
          "output_type": "display_data",
          "data": {
            "text/plain": [
              "<Figure size 432x288 with 1 Axes>"
            ],
            "image/png": "[encoded data removed]"
          },
          "metadata": {
            "needs_background": "light"
          }
        }
      ]
    },
    {
      "cell_type": "code",
      "source": [
        "# clean data \n",
        "import re\n",
        "df = pd.read_csv('ufos_in_texas.csv')\n",
        "test = df.head()\n",
        "num_rows_original = df.shape[0]\n",
        "\n",
        "#drop the rows which are empty\n",
        "df.dropna(subset=['Duration'],inplace=True)\n",
        "\n",
        "df['Duration'] = df['Duration'].str.replace(r'(<|>|~|\\+|\\.)s?', '', regex=True, case=False) #removing <,>,~\n",
        "\n",
        "# processing elements like 3-4 minutes \n",
        "for index,row in df.iterrows():\n",
        "\n",
        "  row['Duration']=str(row['Duration']) #converting to string type\n",
        "  row['Duration'] = row['Duration'].lstrip()\n",
        "  row['Duration'] = row['Duration'].rstrip()\n",
        "\n",
        "  #removing characters present after x-y seconds as some have '.' or some additional text after the time unit\n",
        "  if(re.match('\\d+[-]?\\d+?\\s+(sec|second|min|minute|hr|hour|day|year)s?.*',row['Duration'],flags=re.IGNORECASE) != None):\n",
        "    split_data = row['Duration'].split(\" \") \n",
        "    row['Duration'] = split_data[0] + ' ' + split_data[1]\n",
        "\n",
        "  #taking the mid point of the time range (example: 3-4 minutes => 3.5 minutes)\n",
        "  if(re.match('\\d+[-]\\d+\\s+(sec|second|min|minute|hr|hour|day|year)s?.*',row['Duration'],flags=re.IGNORECASE) != None):\n",
        "    split_data = row['Duration'].split(\" \")\n",
        "    unit = split_data[1].split('.')[0]\n",
        "    split_data = split_data[0].split(\"-\")\n",
        "    row['Duration'] = (float(split_data[0]) + float(split_data[1]))/2\n",
        "    row['Duration'] = str(row['Duration']) + ' ' + unit\n",
        "    \n",
        "#handling the spelling errors and shorthands\n",
        "df['Duration'] = df['Duration'].str.replace(r'\\bsecs?\\s?\\b', 'seconds', regex=True, case=False) #replacing sec,secs with seconds\n",
        "df['Duration'] = df['Duration'].str.replace(r'\\bsecondss\\b', 'seconds', regex=True, case=False) #replacing secondss with seconds \n",
        "df['Duration'] = df['Duration'].str.replace(r'\\bmins?\\s?\\b', 'minutes', regex=True, case=False) #replacing min,mins with minutes\n",
        "df['Duration'] = df['Duration'].str.replace(r'\\bminutess\\b', 'minutes', regex=True, case=False) #replacing minutess with minutes \n",
        "df['Duration'] = df['Duration'].str.replace(r'\\bhrs?\\b', 'hours', regex=True, case=False) #replacing hr/hrs with hours \n",
        "\n",
        "#filtering out the rows that don't have the data in the expected format\n",
        "df = df[df['Duration'].str.fullmatch('\\d+(\\.\\d+)?\\s(second|minute|hour|day|year)s?', case=False) == True]\n",
        "\n",
        "#converting all values to seconds\n",
        "df['Duration'].replace('( minute)s?', '*60 seconds', regex=True, inplace=True)\n",
        "df['Duration'].replace('( hour)s?', '*3600 seconds', regex=True, inplace=True)\n",
        "df['Duration'].replace('( day)s?', '*86400 seconds', regex=True, inplace=True)\n",
        "df['Duration'].replace('( year)s?', '*31536000 seconds', regex=True, inplace=True)\n",
        "df['Duration'].replace('( second)s?', '*1', regex=True, inplace=True)\n",
        "\n",
        "inter_m=df['Duration'].str.split(\"*\",expand=True)\n",
        "inter_m[0] = pd.to_numeric(inter_m[0], errors='coerce')\n",
        "inter_m[1] = pd.to_numeric(inter_m[1], errors='coerce')\n",
        "\n",
        "df['Duration']=inter_m[0] * inter_m[1]\n",
        "\n",
        "# saving the cleaned data in a csv\n",
        "df.to_csv('cleaned_seconds.csv', index=False)\n",
        "num_rows_filtered = df.shape[0]\n",
        "print(df.shape)\n",
        "df.head()\n",
        "\n"
      ],
      "metadata": {
        "colab": {
          "base_uri": "https://localhost:8080/",
          "height": 397
        },
        "id": "qsyaQVkm44EO",
        "outputId": "d49c98e2-4618-405b-987a-a0c2cda7a6ac"
      },
      "execution_count": 9,
      "outputs": [
        {
          "output_type": "stream",
          "name": "stdout",
          "text": [
            "(4234, 8)\n"
          ]
        },
        {
          "output_type": "stream",
          "name": "stderr",
          "text": [
            "/usr/local/lib/python3.7/dist-packages/pandas/core/generic.py:6619: SettingWithCopyWarning: \n",
            "A value is trying to be set on a copy of a slice from a DataFrame\n",
            "\n",
            "See the caveats in the documentation: https://pandas.pydata.org/pandas-docs/stable/user_guide/indexing.html#returning-a-view-versus-a-copy\n",
            "  return self._update_inplace(result)\n",
            "/usr/local/lib/python3.7/dist-packages/ipykernel_launcher.py:53: SettingWithCopyWarning: \n",
            "A value is trying to be set on a copy of a slice from a DataFrame.\n",
            "Try using .loc[row_indexer,col_indexer] = value instead\n",
            "\n",
            "See the caveats in the documentation: https://pandas.pydata.org/pandas-docs/stable/user_guide/indexing.html#returning-a-view-versus-a-copy\n"
          ]
        },
        {
          "output_type": "execute_result",
          "data": {
            "text/plain": [
              "      Date / Time            City State Country   Shape  Duration  \\\n",
              "1   2/24/22 19:31           Hondo    TX     USA   Other     240.0   \n",
              "4   2/18/22 06:45         Silsbee    TX     USA    Disk    1500.0   \n",
              "5   2/14/22 02:13       Arlington    TX     USA   Light      10.0   \n",
              "11   2/1/22 19:00  Mount Pleasant    TX     USA  Sphere     180.0   \n",
              "12  1/29/22 00:06     San Antonio    TX     USA    Star       7.0   \n",
              "\n",
              "                                              Summary  Posted  \n",
              "1   Objects in the sky with multiple activity goin...  3/4/22  \n",
              "4   It was so bright. It was daylight but it was l...  3/4/22  \n",
              "5   Bright light(bright like the North Star) Dropp...  3/4/22  \n",
              "11  We step outside and looked up. It was like a s...  3/4/22  \n",
              "12         Beautiful LARGE white-tailed shooting star  3/4/22  "
            ],
            "text/html": [
              "\n",
              "  <div id=\"df-8a502b47-2673-42a4-ba4b-6b1e094e5923\">\n",
              "    <div class=\"colab-df-container\">\n",
              "      <div>\n",
              "<style scoped>\n",
              "    .dataframe tbody tr th:only-of-type {\n",
              "        vertical-align: middle;\n",
              "    }\n",
              "\n",
              "    .dataframe tbody tr th {\n",
              "        vertical-align: top;\n",
              "    }\n",
              "\n",
              "    .dataframe thead th {\n",
              "        text-align: right;\n",
              "    }\n",
              "</style>\n",
              "<table border=\"1\" class=\"dataframe\">\n",
              "  <thead>\n",
              "    <tr style=\"text-align: right;\">\n",
              "      <th></th>\n",
              "      <th>Date / Time</th>\n",
              "      <th>City</th>\n",
              "      <th>State</th>\n",
              "      <th>Country</th>\n",
              "      <th>Shape</th>\n",
              "      <th>Duration</th>\n",
              "      <th>Summary</th>\n",
              "      <th>Posted</th>\n",
              "    </tr>\n",
              "  </thead>\n",
              "  <tbody>\n",
              "    <tr>\n",
              "      <th>1</th>\n",
              "      <td>2/24/22 19:31</td>\n",
              "      <td>Hondo</td>\n",
              "      <td>TX</td>\n",
              "      <td>USA</td>\n",
              "      <td>Other</td>\n",
              "      <td>240.0</td>\n",
              "      <td>Objects in the sky with multiple activity goin...</td>\n",
              "      <td>3/4/22</td>\n",
              "    </tr>\n",
              "    <tr>\n",
              "      <th>4</th>\n",
              "      <td>2/18/22 06:45</td>\n",
              "      <td>Silsbee</td>\n",
              "      <td>TX</td>\n",
              "      <td>USA</td>\n",
              "      <td>Disk</td>\n",
              "      <td>1500.0</td>\n",
              "      <td>It was so bright. It was daylight but it was l...</td>\n",
              "      <td>3/4/22</td>\n",
              "    </tr>\n",
              "    <tr>\n",
              "      <th>5</th>\n",
              "      <td>2/14/22 02:13</td>\n",
              "      <td>Arlington</td>\n",
              "      <td>TX</td>\n",
              "      <td>USA</td>\n",
              "      <td>Light</td>\n",
              "      <td>10.0</td>\n",
              "      <td>Bright light(bright like the North Star) Dropp...</td>\n",
              "      <td>3/4/22</td>\n",
              "    </tr>\n",
              "    <tr>\n",
              "      <th>11</th>\n",
              "      <td>2/1/22 19:00</td>\n",
              "      <td>Mount Pleasant</td>\n",
              "      <td>TX</td>\n",
              "      <td>USA</td>\n",
              "      <td>Sphere</td>\n",
              "      <td>180.0</td>\n",
              "      <td>We step outside and looked up. It was like a s...</td>\n",
              "      <td>3/4/22</td>\n",
              "    </tr>\n",
              "    <tr>\n",
              "      <th>12</th>\n",
              "      <td>1/29/22 00:06</td>\n",
              "      <td>San Antonio</td>\n",
              "      <td>TX</td>\n",
              "      <td>USA</td>\n",
              "      <td>Star</td>\n",
              "      <td>7.0</td>\n",
              "      <td>Beautiful LARGE white-tailed shooting star</td>\n",
              "      <td>3/4/22</td>\n",
              "    </tr>\n",
              "  </tbody>\n",
              "</table>\n",
              "</div>\n",
              "      <button class=\"colab-df-convert\" onclick=\"convertToInteractive('df-8a502b47-2673-42a4-ba4b-6b1e094e5923')\"\n",
              "              title=\"Convert this dataframe to an interactive table.\"\n",
              "              style=\"display:none;\">\n",
              "        \n",
              "  <svg xmlns=\"http://www.w3.org/2000/svg\" height=\"24px\"viewBox=\"0 0 24 24\"\n",
              "       width=\"24px\">\n",
              "    <path d=\"M0 0h24v24H0V0z\" fill=\"none\"/>\n",
              "    <path d=\"M18.56 5.44l.94 2.06.94-2.06 2.06-.94-2.06-.94-.94-2.06-.94 2.06-2.06.94zm-11 1L8.5 8.5l.94-2.06 2.06-.94-2.06-.94L8.5 2.5l-.94 2.06-2.06.94zm10 10l.94 2.06.94-2.06 2.06-.94-2.06-.94-.94-2.06-.94 2.06-2.06.94z\"/><path d=\"M17.41 7.96l-1.37-1.37c-.4-.4-.92-.59-1.43-.59-.52 0-1.04.2-1.43.59L10.3 9.45l-7.72 7.72c-.78.78-.78 2.05 0 2.83L4 21.41c.39.39.9.59 1.41.59.51 0 1.02-.2 1.41-.59l7.78-7.78 2.81-2.81c.8-.78.8-2.07 0-2.86zM5.41 20L4 18.59l7.72-7.72 1.47 1.35L5.41 20z\"/>\n",
              "  </svg>\n",
              "      </button>\n",
              "      \n",
              "  <style>\n",
              "    .colab-df-container {\n",
              "      display:flex;\n",
              "      flex-wrap:wrap;\n",
              "      gap: 12px;\n",
              "    }\n",
              "\n",
              "    .colab-df-convert {\n",
              "      background-color: #E8F0FE;\n",
              "      border: none;\n",
              "      border-radius: 50%;\n",
              "      cursor: pointer;\n",
              "      display: none;\n",
              "      fill: #1967D2;\n",
              "      height: 32px;\n",
              "      padding: 0 0 0 0;\n",
              "      width: 32px;\n",
              "    }\n",
              "\n",
              "    .colab-df-convert:hover {\n",
              "      background-color: #E2EBFA;\n",
              "      box-shadow: 0px 1px 2px rgba(60, 64, 67, 0.3), 0px 1px 3px 1px rgba(60, 64, 67, 0.15);\n",
              "      fill: #174EA6;\n",
              "    }\n",
              "\n",
              "    [theme=dark] .colab-df-convert {\n",
              "      background-color: #3B4455;\n",
              "      fill: #D2E3FC;\n",
              "    }\n",
              "\n",
              "    [theme=dark] .colab-df-convert:hover {\n",
              "      background-color: #434B5C;\n",
              "      box-shadow: 0px 1px 3px 1px rgba(0, 0, 0, 0.15);\n",
              "      filter: drop-shadow(0px 1px 2px rgba(0, 0, 0, 0.3));\n",
              "      fill: #FFFFFF;\n",
              "    }\n",
              "  </style>\n",
              "\n",
              "      <script>\n",
              "        const buttonEl =\n",
              "          document.querySelector('#df-8a502b47-2673-42a4-ba4b-6b1e094e5923 button.colab-df-convert');\n",
              "        buttonEl.style.display =\n",
              "          google.colab.kernel.accessAllowed ? 'block' : 'none';\n",
              "\n",
              "        async function convertToInteractive(key) {\n",
              "          const element = document.querySelector('#df-8a502b47-2673-42a4-ba4b-6b1e094e5923');\n",
              "          const dataTable =\n",
              "            await google.colab.kernel.invokeFunction('convertToInteractive',\n",
              "                                                     [key], {});\n",
              "          if (!dataTable) return;\n",
              "\n",
              "          const docLinkHtml = 'Like what you see? Visit the ' +\n",
              "            '<a target=\"_blank\" href=https://colab.research.google.com/notebooks/data_table.ipynb>data table notebook</a>'\n",
              "            + ' to learn more about interactive tables.';\n",
              "          element.innerHTML = '';\n",
              "          dataTable['output_type'] = 'display_data';\n",
              "          await google.colab.output.renderOutput(dataTable, element);\n",
              "          const docLink = document.createElement('div');\n",
              "          docLink.innerHTML = docLinkHtml;\n",
              "          element.appendChild(docLink);\n",
              "        }\n",
              "      </script>\n",
              "    </div>\n",
              "  </div>\n",
              "  "
            ]
          },
          "metadata": {},
          "execution_count": 9
        }
      ]
    },
    {
      "cell_type": "code",
      "source": [
        "# total rows in original dataset\n",
        "print(\"Total #rows in original dataset : {}\".format(num_rows_original))\n",
        "\n",
        "# valid rows in your cleaned dataset\n",
        "print(\"Total #rows in new 'validated' dataset : {}\".format(df.shape[0]))"
      ],
      "metadata": {
        "colab": {
          "base_uri": "https://localhost:8080/"
        },
        "id": "RCr8FpRY496E",
        "outputId": "b4329b7d-ec6d-481e-e993-622b91b80573"
      },
      "execution_count": 10,
      "outputs": [
        {
          "output_type": "stream",
          "name": "stdout",
          "text": [
            "Total #rows in original dataset : 5667\n",
            "Total #rows in new 'validated' dataset : 4234\n"
          ]
        }
      ]
    },
    {
      "cell_type": "code",
      "source": [
        "print(\"Max duration in the validated dataset : {}\".format(df['Duration'].max()))\n",
        "print(\"Min duration in the validated dataset : {}\".format(df['Duration'].min()))\n",
        "print(\"Mean duration in the validated dataset : {}\".format(df['Duration'].mean()))\n",
        "print(\"Std Deviation of  duration in the validated dataset : {}\".format(df['Duration'].std()))\n",
        "\n",
        "# draw a boxplot for your cleaned dataset\n",
        "df['Duration'].plot(kind='box',showfliers=True) #with outliers "
      ],
      "metadata": {
        "colab": {
          "base_uri": "https://localhost:8080/",
          "height": 362
        },
        "id": "Aciqc2qb5A-8",
        "outputId": "599948c3-75a4-4854-8e94-bb0ce2e30fc0"
      },
      "execution_count": 11,
      "outputs": [
        {
          "output_type": "stream",
          "name": "stdout",
          "text": [
            "Max duration in the validated dataset : 157680000.0\n",
            "Min duration in the validated dataset : 1.0\n",
            "Mean duration in the validated dataset : 40508.72707155151\n",
            "Std Deviation of  duration in the validated dataset : 2472580.5753309303\n"
          ]
        },
        {
          "output_type": "execute_result",
          "data": {
            "text/plain": [
              "<matplotlib.axes._subplots.AxesSubplot at 0x7f90c5d7f850>"
            ]
          },
          "metadata": {},
          "execution_count": 11
        },
        {
          "output_type": "display_data",
          "data": {
            "text/plain": [
              "<Figure size 432x288 with 1 Axes>"
            ],
            "image/png": "[encoded data removed]"
          },
          "metadata": {
            "needs_background": "light"
          }
        }
      ]
    },
    {
      "cell_type": "code",
      "source": [
        "df['Duration'].plot(kind='box',showfliers=False) #without outliers "
      ],
      "metadata": {
        "colab": {
          "base_uri": "https://localhost:8080/",
          "height": 282
        },
        "id": "4o0T9MAw5DH9",
        "outputId": "5d753f87-275f-4720-e346-c08d4fbd013d"
      },
      "execution_count": 12,
      "outputs": [
        {
          "output_type": "execute_result",
          "data": {
            "text/plain": [
              "<matplotlib.axes._subplots.AxesSubplot at 0x7f90c5d59b10>"
            ]
          },
          "metadata": {},
          "execution_count": 12
        },
        {
          "output_type": "display_data",
          "data": {
            "text/plain": [
              "<Figure size 432x288 with 1 Axes>"
            ],
            "image/png": "[encoded data removed]"
          },
          "metadata": {
            "needs_background": "light"
          }
        }
      ]
    },
    {
      "cell_type": "markdown",
      "source": [
        "Observations:\n",
        "\n",
        "There are some outliers in the data which are very high values. After removing outliers, the range of values is around 1400 seconds(~24mins).\n",
        "From the boxplots in 1b and 1c(ignoring outliers), it is clear that the duration values are concentrated towards the lower values.\n",
        "Around 75% of the values are in the range of 0 to 600 seconds(0 to 10 mins). It can be inferred that the distribution of the duration values is right-skewed(concentrated in the left and tapering towards the right)."
      ],
      "metadata": {
        "id": "tN3mpCxf5Hfl"
      }
    },
    {
      "cell_type": "code",
      "source": [
        "import pandas as pd\n",
        "import matplotlib.pyplot as plt\n",
        "\n",
        "df = pd.read_csv('ufos_in_texas.csv')\n",
        "\n",
        "df['Posted'] = pd.to_datetime(df.Posted)\n",
        "df['Posted'] = df.Posted.dt.year\n",
        "newdf = df.groupby('Posted').size().reset_index(name='counts')\n",
        "newdf.plot(x= 'Posted', y = 'counts', kind = 'bar')"
      ],
      "metadata": {
        "colab": {
          "base_uri": "https://localhost:8080/",
          "height": 312
        },
        "id": "K8oOfP1_5GS1",
        "outputId": "a3e2e36f-b12f-4b0c-bbbd-f55bbcc7c9a8"
      },
      "execution_count": 13,
      "outputs": [
        {
          "output_type": "execute_result",
          "data": {
            "text/plain": [
              "<matplotlib.axes._subplots.AxesSubplot at 0x7f90c58a3350>"
            ]
          },
          "metadata": {},
          "execution_count": 13
        },
        {
          "output_type": "display_data",
          "data": {
            "text/plain": [
              "<Figure size 432x288 with 1 Axes>"
            ],
            "image/png": "[encoded data removed]"
          },
          "metadata": {
            "needs_background": "light"
          }
        }
      ]
    },
    {
      "cell_type": "code",
      "source": [
        "df = pd.read_csv('ufos_in_texas.csv')\n",
        "df_grouped_shapes =  df.groupby('Shape').size().reset_index(name='counts')\n",
        "df_grouped_shapes = df_grouped_shapes.sort_values(['counts'], ascending=False)\n",
        "df_top_shapes = df_grouped_shapes[0:15]\n",
        "percentage_of_data = df_top_shapes['counts'].sum()/df_grouped_shapes['counts'].sum()\n",
        "print(percentage_of_data)\n",
        "df_top_shapes.plot(x= 'Shape', y = 'counts', kind = 'bar')"
      ],
      "metadata": {
        "colab": {
          "base_uri": "https://localhost:8080/",
          "height": 358
        },
        "id": "qjZbHHvN5Nlz",
        "outputId": "c725e52b-576e-4583-ebb2-ec702546398d"
      },
      "execution_count": 14,
      "outputs": [
        {
          "output_type": "stream",
          "name": "stdout",
          "text": [
            "0.9417634252539913\n"
          ]
        },
        {
          "output_type": "execute_result",
          "data": {
            "text/plain": [
              "<matplotlib.axes._subplots.AxesSubplot at 0x7f90c567c390>"
            ]
          },
          "metadata": {},
          "execution_count": 14
        },
        {
          "output_type": "display_data",
          "data": {
            "text/plain": [
              "<Figure size 432x288 with 1 Axes>"
            ],
            "image/png": "[encoded data removed]"
          },
          "metadata": {
            "needs_background": "light"
          }
        }
      ]
    },
    {
      "cell_type": "markdown",
      "source": [
        "Temporal analysis:\n",
        "\n",
        "I considered the 'Posted' column and extracted the year information of all the reportings.\n",
        "The trend of the number of reportings of UFOs on the site is going upwards from 1998 to 2008. This is followed by some variations in both directions.\n",
        "Although there is no definite trend post 2008, the earlier uptrend could be attributed to the increasing number of users joining the internet with computers becoming easily available.\n",
        "Shape analysis:\n",
        "\n",
        "I grouped the reportings by shape and considered the top 16 most seen shapes for analysis. These correspond to 94% of the dataset.\n",
        "The most reported shape is that of 'light'. Among the other shapes, 'Flash' can be considered similar to 'light'.\n",
        "Among other shapes, 'circle', 'disk', 'sphere' can be considered as same shape.\n",
        "In summary, people saw flashes of light or circular shaped formations in the sky and concluded that it is a UFO."
      ],
      "metadata": {
        "id": "fsKmHauE5QGt"
      }
    }
  ]
}